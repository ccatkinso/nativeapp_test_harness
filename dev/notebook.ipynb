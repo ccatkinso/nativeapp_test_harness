{
 "cells": [
  {
   "cell_type": "code",
   "execution_count": 24,
   "metadata": {},
   "outputs": [],
   "source": [
    "'''Run In SNowpark 3.10.11 Virtual Environment'''\n",
    "\n",
    "# Import Snowflake modules\n",
    "from snowflake.snowpark import Session\n",
    "import snowflake.snowpark.functions as spf\n",
    "import snowflake.snowpark.types as T\n",
    "from snowflake.snowpark import Window\n",
    "import snowflake.snowpark as sp\n",
    "import pandas as pd\n",
    "# Import Python modules\n",
    "\n",
    "\n",
    "# Specify connection parameters\n",
    "connection_parameters = {\n",
    "    \"account\":\"sfsenorthamerica-demo191\",\n",
    "    \"user\":\"chris.atkinson@snowflake.com\",\n",
    "    \"password\": \"Lovemybike1$\",\n",
    "    \"role\":\"napspcs_service_role\",\n",
    "    \"warehouse\":\"naspcs_wh\",\n",
    "    \"database\":\"naspcs_db\",\n",
    "    \"schema\":\"napp\"\n",
    "    }\n",
    "\n",
    "# Create Snowpark session\n",
    "session = Session.builder.configs(connection_parameters).create()\n",
    "\n"
   ]
  },
  {
   "cell_type": "code",
   "execution_count": 25,
   "metadata": {},
   "outputs": [
    {
     "name": "stdout",
     "output_type": "stream",
     "text": [
      "NASPCS_DB\n"
     ]
    }
   ],
   "source": [
    "# wasting time getting shit from pandas dfs\n",
    "db_raw = session.sql('SELECT CURRENT_DATABASE()').to_pandas()\n",
    "stringval = db_raw['CURRENT_DATABASE()'].values[0]\n",
    "print(stringval)"
   ]
  },
  {
   "cell_type": "code",
   "execution_count": 26,
   "metadata": {},
   "outputs": [
    {
     "data": {
      "text/plain": [
       "<snowflake.snowpark.dataframe.DataFrame at 0x179982890>"
      ]
     },
     "execution_count": 26,
     "metadata": {},
     "output_type": "execute_result"
    }
   ],
   "source": [
    "session.sql('SHOW SERVICES')"
   ]
  },
  {
   "cell_type": "code",
   "execution_count": 27,
   "metadata": {},
   "outputs": [
    {
     "data": {
      "text/plain": [
       "[Row(status='Statement executed successfully.')]"
      ]
     },
     "execution_count": 27,
     "metadata": {},
     "output_type": "execute_result"
    }
   ],
   "source": [
    "session.sql('USE ROLE napspcs_service_role').collect()\n",
    "\n",
    "#session.sql('USE APPLICATION naspcs_debug').collect()"
   ]
  }
 ],
 "metadata": {
  "kernelspec": {
   "display_name": "snowpark (3.10.11)",
   "language": "python",
   "name": "python3"
  },
  "language_info": {
   "codemirror_mode": {
    "name": "ipython",
    "version": 3
   },
   "file_extension": ".py",
   "mimetype": "text/x-python",
   "name": "python",
   "nbconvert_exporter": "python",
   "pygments_lexer": "ipython3",
   "version": "3.10.11"
  }
 },
 "nbformat": 4,
 "nbformat_minor": 2
}
